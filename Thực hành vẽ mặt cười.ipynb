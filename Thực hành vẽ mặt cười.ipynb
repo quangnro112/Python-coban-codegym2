{
 "cells": [
  {
   "cell_type": "code",
   "execution_count": 1,
   "id": "ab48c58f",
   "metadata": {},
   "outputs": [],
   "source": [
    "# vẽ mặt cười\n",
    "import turtle\n",
    "pen = turtle.Turtle()\n",
    "pen.pensize(5)\n",
    "pen.pencolor(\"#E11050\")\n",
    "#pen.shape(\"circle\") # mui ten chuyen hinh tron\n",
    "pen.penup()\n",
    "pen.goto(0,-200)\n",
    "\n",
    "facesize = 200\n",
    "eyesize = 24\n",
    "tg = 30\n",
    "\n",
    "pen.pendown()\n",
    "pen.circle(facesize)\n",
    "# mat trai\n",
    "pen.penup()\n",
    "pen.goto(-50,100)\n",
    "pen.down()\n",
    "pen.circle(eyesize)\n",
    "pen.end_fill()\n",
    "# mat phai\n",
    "pen.penup()\n",
    "pen.goto(50,100)\n",
    "pen.pendown()\n",
    "pen.circle(eyesize)\n",
    "pen.end_fill()\n",
    "# mui\n",
    "pen.penup()\n",
    "pen.goto(0,50)\n",
    "pen.pendown()\n",
    "pen.circle(tg)\n",
    "pen.end_fill()\n",
    "# mieng\n",
    "turtle.done()"
   ]
  },
  {
   "cell_type": "code",
   "execution_count": 18,
   "id": "f745f002",
   "metadata": {},
   "outputs": [
    {
     "name": "stdout",
     "output_type": "stream",
     "text": [
      "70.71067811865476\n"
     ]
    }
   ],
   "source": [
    "# Tính diện tích tam giác\n",
    "a = 10\n",
    "b = 15\n",
    "c = 15\n",
    "p = (a+b+c)/2\n",
    "s = (p*(p-a)*(p-b)*(p-c))**0.5\n",
    "print(s)"
   ]
  },
  {
   "cell_type": "code",
   "execution_count": null,
   "id": "2f304976",
   "metadata": {},
   "outputs": [],
   "source": []
  },
  {
   "cell_type": "code",
   "execution_count": null,
   "id": "0a8f1b9e",
   "metadata": {},
   "outputs": [],
   "source": []
  },
  {
   "cell_type": "code",
   "execution_count": null,
   "id": "da7a44ae",
   "metadata": {},
   "outputs": [],
   "source": []
  }
 ],
 "metadata": {
  "kernelspec": {
   "display_name": "Python 3 (ipykernel)",
   "language": "python",
   "name": "python3"
  },
  "language_info": {
   "codemirror_mode": {
    "name": "ipython",
    "version": 3
   },
   "file_extension": ".py",
   "mimetype": "text/x-python",
   "name": "python",
   "nbconvert_exporter": "python",
   "pygments_lexer": "ipython3",
   "version": "3.10.2"
  }
 },
 "nbformat": 4,
 "nbformat_minor": 5
}
