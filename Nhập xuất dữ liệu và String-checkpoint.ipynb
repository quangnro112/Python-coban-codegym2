{
 "cells": [
  {
   "cell_type": "markdown",
   "id": "7ac14915",
   "metadata": {},
   "source": [
    "# Nhập xuất dữ liệu và String\n",
    "## Cách nhập xuất dữ liệu"
   ]
  },
  {
   "cell_type": "markdown",
   "id": "0f202ae8",
   "metadata": {},
   "source": [
    "### Xuất dữ liệu ra màn hình\n",
    "Để in các nội dung mà chúng ta mong muốn ra màn hình, ta sử dụng lệnh print()"
   ]
  },
  {
   "cell_type": "code",
   "execution_count": 1,
   "id": "a6d3f260",
   "metadata": {},
   "outputs": [
    {
     "name": "stdout",
     "output_type": "stream",
     "text": [
      "python is very easy\n"
     ]
    }
   ],
   "source": [
    "# Ví dụ: In ra nội dung \"python is very easy\"\n",
    "print(\"python is very easy\")"
   ]
  },
  {
   "cell_type": "markdown",
   "id": "7733925a",
   "metadata": {},
   "source": [
    "### Các cách custom với lệnh print"
   ]
  },
  {
   "cell_type": "markdown",
   "id": "292ab570",
   "metadata": {},
   "source": [
    "Để in một nội dung kèm theo giá trị của biến, ta có các cách sau:"
   ]
  },
  {
   "cell_type": "code",
   "execution_count": 3,
   "id": "20ff912c",
   "metadata": {},
   "outputs": [],
   "source": [
    "food_1 = \"chocolate\"\n",
    "food_2 = \"sandwich\"\n",
    "# i lover chocolate and i hate sandwich"
   ]
  },
  {
   "cell_type": "code",
   "execution_count": 1,
   "id": "6407a448",
   "metadata": {},
   "outputs": [
    {
     "name": "stdout",
     "output_type": "stream",
     "text": [
      "i lover chocolate and i hate sandwich\n"
     ]
    }
   ],
   "source": [
    "# In trực tiếp\n",
    "# in ra: i lover chocolate and i hate sandwich\n",
    "print('i lover chocolate and i hate sandwich')"
   ]
  },
  {
   "cell_type": "code",
   "execution_count": 4,
   "id": "27d098b8",
   "metadata": {},
   "outputs": [
    {
     "name": "stdout",
     "output_type": "stream",
     "text": [
      "i love chocolate and i hate sandwich\n"
     ]
    }
   ],
   "source": [
    "# In bằng cách ghép các nội dung với nhau\n",
    "print('i love',food_1, 'and i hate', food_2)"
   ]
  },
  {
   "cell_type": "code",
   "execution_count": 5,
   "id": "717666f2",
   "metadata": {},
   "outputs": [
    {
     "name": "stdout",
     "output_type": "stream",
     "text": [
      "i love chocolate and i hatesandwich\n"
     ]
    }
   ],
   "source": [
    "# Sử dụng String Format\n",
    "print(f'i love {food_1} and i hate{food_2}')"
   ]
  },
  {
   "cell_type": "code",
   "execution_count": 6,
   "id": "c7276e05",
   "metadata": {},
   "outputs": [
    {
     "name": "stdout",
     "output_type": "stream",
     "text": [
      "i love\n",
      "chocolate\n",
      "i hate\n",
      "sandwich\n"
     ]
    }
   ],
   "source": [
    "# Sử dụng nhiều lệnh print\n",
    "print('i love')\n",
    "print(food_1)\n",
    "print('i hate')\n",
    "print(food_2)\n",
    "#print('i love', end='') để bỏ đi dấu \\n (xuống dòng) khi thực hiện các lệnh print\n",
    "#print(food_1)\n",
    "#print('i hate')\n",
    "#print(food_2)"
   ]
  },
  {
   "cell_type": "markdown",
   "id": "e10788fb",
   "metadata": {},
   "source": [
    "### Nhập dữ liệu\n",
    "Để nhập dữ liệu vào chương trình python, chúng ta sử dụng hàm input()"
   ]
  },
  {
   "cell_type": "code",
   "execution_count": 24,
   "id": "b8b8afd3",
   "metadata": {},
   "outputs": [
    {
     "name": "stdout",
     "output_type": "stream",
     "text": [
      "nhập tên: 2\n",
      "2\n",
      "<class 'str'>\n",
      "nhập số tháng: 5\n",
      "5\n",
      "<class 'int'>\n"
     ]
    }
   ],
   "source": [
    "# nhập dữ liệu bằng hàm input(\"\")\n",
    "name = input('nhập tên: ')\n",
    "print(name)\n",
    "print(type(name)) # in kiểu dữ liệu của biến\n",
    "\n",
    "\n",
    "# add kiểu dữ liệu cho biến \n",
    "month = int(input('nhập số tháng: ')) \n",
    "print(month)\n",
    "print(type(month))"
   ]
  },
  {
   "cell_type": "markdown",
   "id": "337f9c15",
   "metadata": {},
   "source": [
    "#### Thực hành: Viết chương trình nhập vào chiều dài và chiều rộng của hình chữ nhật, sau đó in ra chu vi và diện tích của hình chữ nhật đó"
   ]
  },
  {
   "cell_type": "code",
   "execution_count": 20,
   "id": "add68103",
   "metadata": {},
   "outputs": [
    {
     "name": "stdout",
     "output_type": "stream",
     "text": [
      "nhập chiều dài: 12\n",
      "nhập chiều rộng: 10\n",
      "44.0\n",
      "120.0\n"
     ]
    }
   ],
   "source": [
    "# Nhập các kích thước của hình chữ nhật\n",
    "a = float(input('nhập chiều dài: '))\n",
    "b = float(input('nhập chiều rộng: '))\n",
    "c = (a+b)*2\n",
    "s = a*b\n",
    "print(c)\n",
    "print(s)"
   ]
  },
  {
   "cell_type": "code",
   "execution_count": 21,
   "id": "7a1cd73e",
   "metadata": {},
   "outputs": [
    {
     "name": "stdout",
     "output_type": "stream",
     "text": [
      "44.0\n",
      "120.0\n"
     ]
    }
   ],
   "source": [
    "# Tính toán chu vi, diện tích\n",
    "c = (a+b)*2\n",
    "s = a*b\n",
    "print(c)\n",
    "print(s)"
   ]
  },
  {
   "cell_type": "code",
   "execution_count": 31,
   "id": "d0adf735",
   "metadata": {},
   "outputs": [
    {
     "name": "stdout",
     "output_type": "stream",
     "text": [
      "44.0 120.0\n",
      "chu vi: 44.0;\n",
      "dien tich: 120.0\n"
     ]
    }
   ],
   "source": [
    "# In kết quả ra màn hình bằng 3 cách\n",
    "print(c , s)\n",
    "print(f'chu vi: {c};\\ndien tich: {s}' )"
   ]
  },
  {
   "cell_type": "markdown",
   "id": "fb54cb77",
   "metadata": {},
   "source": [
    "#### Thực hành: Viết chương trình nhập vào số đo cạnh và mã màu của tam giác đều, sau đó sử dụng turtle để vẽ ra hình tam giác có số đo và màu tương ứng"
   ]
  },
  {
   "cell_type": "code",
   "execution_count": 4,
   "id": "7583b308",
   "metadata": {
    "scrolled": true
   },
   "outputs": [
    {
     "name": "stdout",
     "output_type": "stream",
     "text": [
      "nhap so do canh tam giac: 100\n",
      "nhap ma mau: #E09E22\n"
     ]
    }
   ],
   "source": [
    "\n",
    "import turtle\n",
    "sodo = float(input('nhap so do canh tam giac: '))\n",
    "mamau = input('nhap ma mau: ') \n",
    "pen = turtle.Turtle()\n",
    "pen.fillcolor(mamau)\n",
    "\n",
    "pen.begin_fill()\n",
    "pen.circle(sodo, steps=3)\n",
    "pen.end_fill()\n",
    "\n",
    "\n",
    "turtle.done()\n",
    "\n",
    "\n",
    "# để coment cho nhiều dòng cần tô các dòng rồi ần tổ hợp phím crtl+?\n",
    "\n"
   ]
  },
  {
   "cell_type": "markdown",
   "id": "fa7cb208",
   "metadata": {},
   "source": [
    "## Cú pháp import"
   ]
  },
  {
   "cell_type": "markdown",
   "id": "ab2a2ea5",
   "metadata": {},
   "source": [
    "Để sử dụng một module từ bên ngoài, chúng ta sẽ sử dụng từ khóa import. Sau đây là ví dụ về một số cách import phổ biến."
   ]
  },
  {
   "cell_type": "markdown",
   "id": "bd6de377",
   "metadata": {},
   "source": [
    "### Random một giá trị ngẫu nhiên"
   ]
  },
  {
   "cell_type": "code",
   "execution_count": null,
   "id": "ce5547f5",
   "metadata": {},
   "outputs": [],
   "source": []
  },
  {
   "cell_type": "markdown",
   "id": "dfa93dc0",
   "metadata": {},
   "source": [
    "### Thực hiện các phép toán số học"
   ]
  },
  {
   "cell_type": "code",
   "execution_count": 8,
   "id": "4f06f722",
   "metadata": {},
   "outputs": [],
   "source": [
    "# import toàn bộ module"
   ]
  },
  {
   "cell_type": "code",
   "execution_count": null,
   "id": "6b9e471b",
   "metadata": {},
   "outputs": [],
   "source": [
    "# import một phần trong module"
   ]
  },
  {
   "cell_type": "markdown",
   "id": "391969e7",
   "metadata": {},
   "source": [
    "## Xử lý String trong python"
   ]
  },
  {
   "cell_type": "markdown",
   "id": "ab461669",
   "metadata": {},
   "source": [
    "### String là gì?\n",
    "String là một chuỗi gồm các ký tự Unicode"
   ]
  },
  {
   "cell_type": "markdown",
   "id": "94a27b90",
   "metadata": {},
   "source": [
    "### Khởi tạo một string"
   ]
  },
  {
   "cell_type": "code",
   "execution_count": null,
   "id": "b14f4fcc",
   "metadata": {},
   "outputs": [],
   "source": [
    "# one-line string"
   ]
  },
  {
   "cell_type": "code",
   "execution_count": null,
   "id": "9cc506a7",
   "metadata": {},
   "outputs": [],
   "source": [
    "# multi-line string sửa dụng \"\"\" .....\"\"\" 3 nháy kép"
   ]
  },
  {
   "cell_type": "markdown",
   "id": "8f4270fd",
   "metadata": {},
   "source": [
    "### Các thao tác phổ biến với string"
   ]
  },
  {
   "cell_type": "code",
   "execution_count": 7,
   "id": "c825f890",
   "metadata": {},
   "outputs": [
    {
     "name": "stdout",
     "output_type": "stream",
     "text": [
      "18\n"
     ]
    }
   ],
   "source": [
    "# Kiểm tra độ dài string sử dụng hàm len\n",
    "name = 'xin chào các ban'\n",
    "print(len(name))\n"
   ]
  },
  {
   "cell_type": "code",
   "execution_count": null,
   "id": "23a63810",
   "metadata": {},
   "outputs": [],
   "source": []
  },
  {
   "cell_type": "code",
   "execution_count": null,
   "id": "6021a3ba",
   "metadata": {},
   "outputs": [],
   "source": []
  },
  {
   "cell_type": "code",
   "execution_count": 12,
   "id": "6de96621",
   "metadata": {},
   "outputs": [
    {
     "name": "stdout",
     "output_type": "stream",
     "text": [
      "_\n"
     ]
    }
   ],
   "source": [
    "# Truy xuất ký tự bằng cơ chế indexing và reverse indexing : đếm\n",
    "# indexing: đếm địa chỉ chuỗi từ trai sang phải()\n",
    "# reverse indexing: đếm địa chỉ chuỗi từ phải sang trái (-)\n",
    "str1 = 'hello_world'\n",
    "print(str1[-6])"
   ]
  },
  {
   "cell_type": "markdown",
   "id": "a4f949d9",
   "metadata": {},
   "source": [
    "#### Thực hành: Viết chương trình nhập vào một chuỗi bất kỳ, sau đó in ra ký tự đầu tiên và ký tự cuối cùng của chuỗi đó."
   ]
  },
  {
   "cell_type": "code",
   "execution_count": 31,
   "id": "186bd173",
   "metadata": {},
   "outputs": [
    {
     "name": "stdout",
     "output_type": "stream",
     "text": [
      "nhập chuỗi: asdasdqr\n",
      "ky tu dau tien: a   ki tu cuoi cung: r\n",
      "ky tu cuoi cung:  r\n"
     ]
    }
   ],
   "source": [
    "str2 = input('nhập chuỗi: ')\n",
    "print('ky tu dau tien:',str2[0],'  ki tu cuoi cung:',str2[-1]) # giá trị -1 là ký tự cuối cùng của chuỗi\n",
    "print('ky tu cuoi cung: ', str2 [len(str2) -1]) # hoặc tìm ra chiều dài chuỗi rồi lấy giá trị -1 của chuỗi\n"
   ]
  },
  {
   "cell_type": "code",
   "execution_count": null,
   "id": "14833f18",
   "metadata": {},
   "outputs": [],
   "source": []
  },
  {
   "cell_type": "code",
   "execution_count": null,
   "id": "9aad2f16",
   "metadata": {},
   "outputs": [],
   "source": [
    "# Cắt string theo index"
   ]
  },
  {
   "cell_type": "code",
   "execution_count": null,
   "id": "6ec63f90",
   "metadata": {},
   "outputs": [],
   "source": [
    "# Ghép chuỗi và lặp chuỗi"
   ]
  },
  {
   "cell_type": "markdown",
   "id": "84c2dcb9",
   "metadata": {},
   "source": [
    "#### Thực hành: Xử lý và in ra các thông tin tương ứng trong chuỗi"
   ]
  },
  {
   "cell_type": "code",
   "execution_count": null,
   "id": "cd71f135",
   "metadata": {},
   "outputs": [],
   "source": []
  },
  {
   "cell_type": "markdown",
   "id": "7cbd965f",
   "metadata": {},
   "source": [
    "### Các hàm thông dụng khi xử lý string"
   ]
  },
  {
   "cell_type": "code",
   "execution_count": null,
   "id": "eb5932a1",
   "metadata": {},
   "outputs": [],
   "source": [
    "# len"
   ]
  },
  {
   "cell_type": "code",
   "execution_count": null,
   "id": "6bef6d33",
   "metadata": {},
   "outputs": [],
   "source": [
    "# count"
   ]
  },
  {
   "cell_type": "code",
   "execution_count": null,
   "id": "1582bbd8",
   "metadata": {},
   "outputs": [],
   "source": [
    "# upper, lower"
   ]
  },
  {
   "cell_type": "code",
   "execution_count": null,
   "id": "0d08f708",
   "metadata": {},
   "outputs": [],
   "source": [
    "# lstrip, rstrip, strip"
   ]
  },
  {
   "cell_type": "code",
   "execution_count": null,
   "id": "62180d52",
   "metadata": {},
   "outputs": [],
   "source": [
    "# split"
   ]
  },
  {
   "cell_type": "markdown",
   "id": "032ba1fc",
   "metadata": {},
   "source": []
  }
 ],
 "metadata": {
  "kernelspec": {
   "display_name": "Python 3 (ipykernel)",
   "language": "python",
   "name": "python3"
  },
  "language_info": {
   "codemirror_mode": {
    "name": "ipython",
    "version": 3
   },
   "file_extension": ".py",
   "mimetype": "text/x-python",
   "name": "python",
   "nbconvert_exporter": "python",
   "pygments_lexer": "ipython3",
   "version": "3.10.2"
  }
 },
 "nbformat": 4,
 "nbformat_minor": 5
}
